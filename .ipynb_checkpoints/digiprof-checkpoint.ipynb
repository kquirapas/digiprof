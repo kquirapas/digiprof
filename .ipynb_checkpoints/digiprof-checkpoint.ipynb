{
 "cells": [
  {
   "cell_type": "markdown",
   "id": "c11d038b",
   "metadata": {},
   "source": [
    "# DigiProf\n",
    "\n",
    "DigiProf is a web application that utilizes machine learning to recognize numbers written by children, and vocalizing these numbers into sound using text-to-speech technology. The app is made to help children actively learn and recall numbers by vocalizing what they have written, thus instilling the concept of Autodidacticism or self-learning. We hope to instill a love for learning and curiosity for exploration in children that will guarantee quality education with long term self-teaching habits.\n",
    "\n",
    "This project is developed by:\n",
    "\n",
    "- A. P. Dumosmog\n",
    "- K. M. Quirapas\n",
    "- D. C. Roxas\n",
    "\n",
    "This project is inspired by:\n",
    "Sustainable Development Goals 4 — Quality Education"
   ]
  },
  {
   "cell_type": "markdown",
   "id": "c326f5a6",
   "metadata": {},
   "source": [
    "## 1. Importing the dataset and libraries"
   ]
  },
  {
   "cell_type": "code",
   "execution_count": 2,
   "id": "02ea2b7a",
   "metadata": {},
   "outputs": [],
   "source": [
    "import numpy as np\n",
    "import pandas as pd\n",
    "import seaborn as sns\n",
    "import math\n",
    "import matplotlib.pyplot as plt\n",
    "%matplotlib inline\n",
    "\n",
    "import os\n",
    "import glob \n",
    "from skimage import io\n",
    "import skimage\n",
    "import random\n",
    "\n",
    "from sklearn.preprocessing import OneHotEncoder"
   ]
  },
  {
   "cell_type": "markdown",
   "id": "6fdcdcaf",
   "metadata": {},
   "source": [
    "## 2. Data Preprocessing"
   ]
  },
  {
   "cell_type": "code",
   "execution_count": 3,
   "id": "7ec9ab15",
   "metadata": {},
   "outputs": [
    {
     "data": {
      "text/plain": [
       "<matplotlib.image.AxesImage at 0x1c59056e0d0>"
      ]
     },
     "execution_count": 3,
     "metadata": {},
     "output_type": "execute_result"
    },
    {
     "data": {
      "image/png": "[encoded data removed]",
      "text/plain": [
       "<Figure size 1080x288 with 1 Axes>"
      ]
     },
     "metadata": {
      "needs_background": "light"
     },
     "output_type": "display_data"
    }
   ],
   "source": [
    "datasetpath = []\n",
    "generalpath = r\".\\data\"\n",
    "classnames = ['0', '1', '2', '3', '4', '5', '6', '7', '8', '9']\n",
    "\n",
    "#Getting the images from the ./data folder\n",
    "for index in range(10):\n",
    "    indivpath = os.path.join(generalpath, classnames[index], \"*\")\n",
    "    indivpath = glob.glob(indivpath)\n",
    "    datasetpath.append(indivpath)\n",
    "\n",
    "datasetpath = np.ravel(datasetpath)\n",
    "\n",
    "#Transforming the images to matrices\n",
    "dataset = []\n",
    "for i in range(datasetpath.shape[0]):\n",
    "    image = io.imread(datasetpath[i])\n",
    "    \n",
    "    #Convert to grayscale\n",
    "    grayimage = skimage.color.rgb2gray(image)\n",
    "    \n",
    "    #Inverting the grayscale image\n",
    "    for i in range(grayimage.shape[0]):\n",
    "        for j in range(grayimage.shape[1]):\n",
    "            grayimage[i][j] = 1 - grayimage[i][j]\n",
    "            \n",
    "    dataset.append(grayimage)\n",
    "\n",
    "#Normalization\n",
    "normdataset = []\n",
    "for image in dataset:\n",
    "    normimage = (image - np.min(image)) / (np.max(image) - np.min(image))\n",
    "    normdataset.append(normimage)\n",
    "\n",
    "#Print a random image from the dataset\n",
    "rng = random.randint(0, len(normdataset)-1)\n",
    "sample = normdataset[rng]\n",
    "fig, ax = plt.subplots(1)\n",
    "fig.set_figwidth(15)\n",
    "ax.imshow(sample, cmap = 'gray')"
   ]
  },
  {
   "cell_type": "code",
   "execution_count": 4,
   "id": "7e8381c9",
   "metadata": {},
   "outputs": [],
   "source": [
    "#Creating the X feature and Y target matrices\n",
    "X = []\n",
    "for image in normdataset:\n",
    "    X.append(np.ravel(image))\n",
    "\n",
    "Y = np.genfromtxt(\"./data/labels.csv\", dtype=np.int32, delimiter=\",\")\n",
    "\n",
    "X = np.array(X)\n",
    "Y = np.array(Y)\n",
    "Yreshaped = Y.reshape(-1, 1)\n",
    "\n",
    "#Encoding target vector Y using OneHotEncoder\n",
    "ohe = OneHotEncoder()\n",
    "y_hot = ohe.fit_transform(Yreshaped)"
   ]
  },
  {
   "cell_type": "markdown",
   "id": "5fd24b47",
   "metadata": {},
   "source": [
    "## 3. Exploratory Data Analysis"
   ]
  },
  {
   "cell_type": "markdown",
   "id": "683b1a79",
   "metadata": {},
   "source": [
    "### 3.1 Dataset basic information"
   ]
  },
  {
   "cell_type": "code",
   "execution_count": 5,
   "id": "df50a963",
   "metadata": {},
   "outputs": [
    {
     "name": "stdout",
     "output_type": "stream",
     "text": [
      "Sample pixels from the dataset\n",
      "\n",
      "   0    1    2    3    4    5    6    7    8    9    ...  774  775  776  777  \\\n",
      "0  0.0  0.0  0.0  0.0  0.0  0.0  0.0  0.0  0.0  0.0  ...  0.0  0.0  0.0  0.0   \n",
      "1  0.0  0.0  0.0  0.0  0.0  0.0  0.0  0.0  0.0  0.0  ...  0.0  0.0  0.0  0.0   \n",
      "2  0.0  0.0  0.0  0.0  0.0  0.0  0.0  0.0  0.0  0.0  ...  0.0  0.0  0.0  0.0   \n",
      "3  0.0  0.0  0.0  0.0  0.0  0.0  0.0  0.0  0.0  0.0  ...  0.0  0.0  0.0  0.0   \n",
      "4  0.0  0.0  0.0  0.0  0.0  0.0  0.0  0.0  0.0  0.0  ...  0.0  0.0  0.0  0.0   \n",
      "\n",
      "   778  779  780  781  782  783  \n",
      "0  0.0  0.0  0.0  0.0  0.0  0.0  \n",
      "1  0.0  0.0  0.0  0.0  0.0  0.0  \n",
      "2  0.0  0.0  0.0  0.0  0.0  0.0  \n",
      "3  0.0  0.0  0.0  0.0  0.0  0.0  \n",
      "4  0.0  0.0  0.0  0.0  0.0  0.0  \n",
      "\n",
      "[5 rows x 784 columns]\n"
     ]
    }
   ],
   "source": [
    "df = pd.DataFrame(X)\n",
    "print(\"Sample pixels from the dataset\\n\")\n",
    "print(df.head())"
   ]
  },
  {
   "cell_type": "code",
   "execution_count": 6,
   "id": "43e0d960",
   "metadata": {},
   "outputs": [
    {
     "name": "stdout",
     "output_type": "stream",
     "text": [
      "Features matrix X basic information\n",
      "\n",
      "<class 'pandas.core.frame.DataFrame'>\n",
      "RangeIndex: 200 entries, 0 to 199\n",
      "Columns: 784 entries, 0 to 783\n",
      "dtypes: float64(784)\n",
      "memory usage: 1.2 MB\n",
      "None\n",
      "X shape: (200, 784)\n"
     ]
    }
   ],
   "source": [
    "print(\"Features matrix X basic information\\n\")\n",
    "print(df.info())\n",
    "print(\"X shape: \"+str(X.shape))"
   ]
  },
  {
   "cell_type": "code",
   "execution_count": 7,
   "id": "657139df",
   "metadata": {},
   "outputs": [
    {
     "name": "stdout",
     "output_type": "stream",
     "text": [
      "Target vector Y basic information\n",
      "\n",
      "<class 'pandas.core.frame.DataFrame'>\n",
      "RangeIndex: 200 entries, 0 to 199\n",
      "Data columns (total 1 columns):\n",
      " #   Column  Non-Null Count  Dtype\n",
      "---  ------  --------------  -----\n",
      " 0   0       200 non-null    int32\n",
      "dtypes: int32(1)\n",
      "memory usage: 928.0 bytes\n",
      "None\n",
      "y_hot shape: (200, 10)\n"
     ]
    }
   ],
   "source": [
    "df2 = pd.DataFrame(Y)\n",
    "print(\"Target vector Y basic information\\n\")\n",
    "print(df2.info())\n",
    "print(\"y_hot shape: \"+str(y_hot.shape))"
   ]
  },
  {
   "cell_type": "markdown",
   "id": "12de904e",
   "metadata": {},
   "source": [
    "### 3.2 Distribution of Labels"
   ]
  },
  {
   "cell_type": "code",
   "execution_count": 8,
   "id": "8636ad33",
   "metadata": {
    "scrolled": false
   },
   "outputs": [
    {
     "data": {
      "image/png": "[encoded data removed]",
      "text/plain": [
       "<Figure size 648x360 with 1 Axes>"
      ]
     },
     "metadata": {
      "needs_background": "light"
     },
     "output_type": "display_data"
    }
   ],
   "source": [
    "distrib = {}\n",
    "for i in Y:\n",
    "    if i not in distrib:\n",
    "        distrib[i] = 1\n",
    "    else:\n",
    "        distrib[i] += 1\n",
    "#plt.bar(distrib.keys(), distrib.values(), x=\"Labels\", y=\"Number of images\")\n",
    "\n",
    "fig, ax = plt.subplots(figsize=(9,5))\n",
    "bars = ax.bar(distrib.keys(), distrib.values())\n",
    "ax.set_xticks(range(10))\n",
    "ax.set_xlabel('Labels')\n",
    "ax.set_ylabel('Number of images')\n",
    "ax.set_title(\"Distribution of Handwritten Digits\")\n",
    "ax.bar_label(bars)\n",
    "\n",
    "plt.show()"
   ]
  },
  {
   "cell_type": "markdown",
   "id": "5c9aa604",
   "metadata": {},
   "source": [
    "### 3.3 Pixel Intensity"
   ]
  },
  {
   "cell_type": "code",
   "execution_count": 9,
   "id": "f05946fe",
   "metadata": {},
   "outputs": [
    {
     "data": {
      "text/html": [
       "<div>\n",
       "<style scoped>\n",
       "    .dataframe tbody tr th:only-of-type {\n",
       "        vertical-align: middle;\n",
       "    }\n",
       "\n",
       "    .dataframe tbody tr th {\n",
       "        vertical-align: top;\n",
       "    }\n",
       "\n",
       "    .dataframe thead th {\n",
       "        text-align: right;\n",
       "    }\n",
       "</style>\n",
       "<table border=\"1\" class=\"dataframe\">\n",
       "  <thead>\n",
       "    <tr style=\"text-align: right;\">\n",
       "      <th></th>\n",
       "      <th>0</th>\n",
       "      <th>1</th>\n",
       "      <th>2</th>\n",
       "      <th>3</th>\n",
       "      <th>4</th>\n",
       "      <th>5</th>\n",
       "      <th>6</th>\n",
       "      <th>7</th>\n",
       "      <th>8</th>\n",
       "      <th>9</th>\n",
       "      <th>...</th>\n",
       "      <th>774</th>\n",
       "      <th>775</th>\n",
       "      <th>776</th>\n",
       "      <th>777</th>\n",
       "      <th>778</th>\n",
       "      <th>779</th>\n",
       "      <th>780</th>\n",
       "      <th>781</th>\n",
       "      <th>782</th>\n",
       "      <th>783</th>\n",
       "    </tr>\n",
       "  </thead>\n",
       "  <tbody>\n",
       "    <tr>\n",
       "      <th>count</th>\n",
       "      <td>200.0</td>\n",
       "      <td>200.0</td>\n",
       "      <td>200.0</td>\n",
       "      <td>200.000000</td>\n",
       "      <td>200.000000</td>\n",
       "      <td>200.0</td>\n",
       "      <td>200.0</td>\n",
       "      <td>200.000000</td>\n",
       "      <td>200.000000</td>\n",
       "      <td>200.000000</td>\n",
       "      <td>...</td>\n",
       "      <td>200.000000</td>\n",
       "      <td>200.000000</td>\n",
       "      <td>200.000000</td>\n",
       "      <td>200.000000</td>\n",
       "      <td>200.000000</td>\n",
       "      <td>200.00000</td>\n",
       "      <td>200.000000</td>\n",
       "      <td>200.000000</td>\n",
       "      <td>200.0</td>\n",
       "      <td>200.0</td>\n",
       "    </tr>\n",
       "    <tr>\n",
       "      <th>mean</th>\n",
       "      <td>0.0</td>\n",
       "      <td>0.0</td>\n",
       "      <td>0.0</td>\n",
       "      <td>0.000059</td>\n",
       "      <td>0.000059</td>\n",
       "      <td>0.0</td>\n",
       "      <td>0.0</td>\n",
       "      <td>0.000020</td>\n",
       "      <td>0.000235</td>\n",
       "      <td>0.000118</td>\n",
       "      <td>...</td>\n",
       "      <td>0.036235</td>\n",
       "      <td>0.041902</td>\n",
       "      <td>0.040039</td>\n",
       "      <td>0.034314</td>\n",
       "      <td>0.020333</td>\n",
       "      <td>0.01002</td>\n",
       "      <td>0.010000</td>\n",
       "      <td>0.000098</td>\n",
       "      <td>0.0</td>\n",
       "      <td>0.0</td>\n",
       "    </tr>\n",
       "    <tr>\n",
       "      <th>std</th>\n",
       "      <td>0.0</td>\n",
       "      <td>0.0</td>\n",
       "      <td>0.0</td>\n",
       "      <td>0.000478</td>\n",
       "      <td>0.000478</td>\n",
       "      <td>0.0</td>\n",
       "      <td>0.0</td>\n",
       "      <td>0.000277</td>\n",
       "      <td>0.002280</td>\n",
       "      <td>0.000671</td>\n",
       "      <td>...</td>\n",
       "      <td>0.184806</td>\n",
       "      <td>0.195735</td>\n",
       "      <td>0.196343</td>\n",
       "      <td>0.175253</td>\n",
       "      <td>0.136902</td>\n",
       "      <td>0.09955</td>\n",
       "      <td>0.099748</td>\n",
       "      <td>0.001386</td>\n",
       "      <td>0.0</td>\n",
       "      <td>0.0</td>\n",
       "    </tr>\n",
       "    <tr>\n",
       "      <th>min</th>\n",
       "      <td>0.0</td>\n",
       "      <td>0.0</td>\n",
       "      <td>0.0</td>\n",
       "      <td>0.000000</td>\n",
       "      <td>0.000000</td>\n",
       "      <td>0.0</td>\n",
       "      <td>0.0</td>\n",
       "      <td>0.000000</td>\n",
       "      <td>0.000000</td>\n",
       "      <td>0.000000</td>\n",
       "      <td>...</td>\n",
       "      <td>0.000000</td>\n",
       "      <td>0.000000</td>\n",
       "      <td>0.000000</td>\n",
       "      <td>0.000000</td>\n",
       "      <td>0.000000</td>\n",
       "      <td>0.00000</td>\n",
       "      <td>0.000000</td>\n",
       "      <td>0.000000</td>\n",
       "      <td>0.0</td>\n",
       "      <td>0.0</td>\n",
       "    </tr>\n",
       "    <tr>\n",
       "      <th>25%</th>\n",
       "      <td>0.0</td>\n",
       "      <td>0.0</td>\n",
       "      <td>0.0</td>\n",
       "      <td>0.000000</td>\n",
       "      <td>0.000000</td>\n",
       "      <td>0.0</td>\n",
       "      <td>0.0</td>\n",
       "      <td>0.000000</td>\n",
       "      <td>0.000000</td>\n",
       "      <td>0.000000</td>\n",
       "      <td>...</td>\n",
       "      <td>0.000000</td>\n",
       "      <td>0.000000</td>\n",
       "      <td>0.000000</td>\n",
       "      <td>0.000000</td>\n",
       "      <td>0.000000</td>\n",
       "      <td>0.00000</td>\n",
       "      <td>0.000000</td>\n",
       "      <td>0.000000</td>\n",
       "      <td>0.0</td>\n",
       "      <td>0.0</td>\n",
       "    </tr>\n",
       "    <tr>\n",
       "      <th>50%</th>\n",
       "      <td>0.0</td>\n",
       "      <td>0.0</td>\n",
       "      <td>0.0</td>\n",
       "      <td>0.000000</td>\n",
       "      <td>0.000000</td>\n",
       "      <td>0.0</td>\n",
       "      <td>0.0</td>\n",
       "      <td>0.000000</td>\n",
       "      <td>0.000000</td>\n",
       "      <td>0.000000</td>\n",
       "      <td>...</td>\n",
       "      <td>0.000000</td>\n",
       "      <td>0.000000</td>\n",
       "      <td>0.000000</td>\n",
       "      <td>0.000000</td>\n",
       "      <td>0.000000</td>\n",
       "      <td>0.00000</td>\n",
       "      <td>0.000000</td>\n",
       "      <td>0.000000</td>\n",
       "      <td>0.0</td>\n",
       "      <td>0.0</td>\n",
       "    </tr>\n",
       "    <tr>\n",
       "      <th>75%</th>\n",
       "      <td>0.0</td>\n",
       "      <td>0.0</td>\n",
       "      <td>0.0</td>\n",
       "      <td>0.000000</td>\n",
       "      <td>0.000000</td>\n",
       "      <td>0.0</td>\n",
       "      <td>0.0</td>\n",
       "      <td>0.000000</td>\n",
       "      <td>0.000000</td>\n",
       "      <td>0.000000</td>\n",
       "      <td>...</td>\n",
       "      <td>0.000000</td>\n",
       "      <td>0.000000</td>\n",
       "      <td>0.000000</td>\n",
       "      <td>0.000000</td>\n",
       "      <td>0.000000</td>\n",
       "      <td>0.00000</td>\n",
       "      <td>0.000000</td>\n",
       "      <td>0.000000</td>\n",
       "      <td>0.0</td>\n",
       "      <td>0.0</td>\n",
       "    </tr>\n",
       "    <tr>\n",
       "      <th>max</th>\n",
       "      <td>0.0</td>\n",
       "      <td>0.0</td>\n",
       "      <td>0.0</td>\n",
       "      <td>0.003922</td>\n",
       "      <td>0.003922</td>\n",
       "      <td>0.0</td>\n",
       "      <td>0.0</td>\n",
       "      <td>0.003922</td>\n",
       "      <td>0.031373</td>\n",
       "      <td>0.003922</td>\n",
       "      <td>...</td>\n",
       "      <td>1.000000</td>\n",
       "      <td>1.000000</td>\n",
       "      <td>1.000000</td>\n",
       "      <td>1.000000</td>\n",
       "      <td>1.000000</td>\n",
       "      <td>1.00000</td>\n",
       "      <td>1.000000</td>\n",
       "      <td>0.019608</td>\n",
       "      <td>0.0</td>\n",
       "      <td>0.0</td>\n",
       "    </tr>\n",
       "  </tbody>\n",
       "</table>\n",
       "<p>8 rows × 784 columns</p>\n",
       "</div>"
      ],
      "text/plain": [
       "         0      1      2           3           4      5      6           7    \\\n",
       "count  200.0  200.0  200.0  200.000000  200.000000  200.0  200.0  200.000000   \n",
       "mean     0.0    0.0    0.0    0.000059    0.000059    0.0    0.0    0.000020   \n",
       "std      0.0    0.0    0.0    0.000478    0.000478    0.0    0.0    0.000277   \n",
       "min      0.0    0.0    0.0    0.000000    0.000000    0.0    0.0    0.000000   \n",
       "25%      0.0    0.0    0.0    0.000000    0.000000    0.0    0.0    0.000000   \n",
       "50%      0.0    0.0    0.0    0.000000    0.000000    0.0    0.0    0.000000   \n",
       "75%      0.0    0.0    0.0    0.000000    0.000000    0.0    0.0    0.000000   \n",
       "max      0.0    0.0    0.0    0.003922    0.003922    0.0    0.0    0.003922   \n",
       "\n",
       "              8           9    ...         774         775         776  \\\n",
       "count  200.000000  200.000000  ...  200.000000  200.000000  200.000000   \n",
       "mean     0.000235    0.000118  ...    0.036235    0.041902    0.040039   \n",
       "std      0.002280    0.000671  ...    0.184806    0.195735    0.196343   \n",
       "min      0.000000    0.000000  ...    0.000000    0.000000    0.000000   \n",
       "25%      0.000000    0.000000  ...    0.000000    0.000000    0.000000   \n",
       "50%      0.000000    0.000000  ...    0.000000    0.000000    0.000000   \n",
       "75%      0.000000    0.000000  ...    0.000000    0.000000    0.000000   \n",
       "max      0.031373    0.003922  ...    1.000000    1.000000    1.000000   \n",
       "\n",
       "              777         778        779         780         781    782    783  \n",
       "count  200.000000  200.000000  200.00000  200.000000  200.000000  200.0  200.0  \n",
       "mean     0.034314    0.020333    0.01002    0.010000    0.000098    0.0    0.0  \n",
       "std      0.175253    0.136902    0.09955    0.099748    0.001386    0.0    0.0  \n",
       "min      0.000000    0.000000    0.00000    0.000000    0.000000    0.0    0.0  \n",
       "25%      0.000000    0.000000    0.00000    0.000000    0.000000    0.0    0.0  \n",
       "50%      0.000000    0.000000    0.00000    0.000000    0.000000    0.0    0.0  \n",
       "75%      0.000000    0.000000    0.00000    0.000000    0.000000    0.0    0.0  \n",
       "max      1.000000    1.000000    1.00000    1.000000    0.019608    0.0    0.0  \n",
       "\n",
       "[8 rows x 784 columns]"
      ]
     },
     "execution_count": 9,
     "metadata": {},
     "output_type": "execute_result"
    }
   ],
   "source": [
    "df.describe()"
   ]
  },
  {
   "cell_type": "markdown",
   "id": "7b70bba6",
   "metadata": {},
   "source": [
    "## 4. Data Modeling"
   ]
  },
  {
   "cell_type": "code",
   "execution_count": null,
   "id": "69f8f85a",
   "metadata": {},
   "outputs": [],
   "source": []
  },
  {
   "cell_type": "markdown",
   "id": "dce51d1d",
   "metadata": {},
   "source": [
    "## 5. Data Testing"
   ]
  },
  {
   "cell_type": "code",
   "execution_count": null,
   "id": "29de60a7",
   "metadata": {},
   "outputs": [],
   "source": []
  }
 ],
 "metadata": {
  "kernelspec": {
   "display_name": "Python 3 (ipykernel)",
   "language": "python",
   "name": "python3"
  },
  "language_info": {
   "codemirror_mode": {
    "name": "ipython",
    "version": 3
   },
   "file_extension": ".py",
   "mimetype": "text/x-python",
   "name": "python",
   "nbconvert_exporter": "python",
   "pygments_lexer": "ipython3",
   "version": "3.9.12"
  }
 },
 "nbformat": 4,
 "nbformat_minor": 5
}
